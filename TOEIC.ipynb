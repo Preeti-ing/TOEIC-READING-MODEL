{
  "nbformat": 4,
  "nbformat_minor": 0,
  "metadata": {
    "colab": {
      "provenance": [],
      "authorship_tag": "ABX9TyNbCAeZRHnvvfDsKwfF8a3K",
      "include_colab_link": true
    },
    "kernelspec": {
      "name": "python3",
      "display_name": "Python 3"
    },
    "language_info": {
      "name": "python"
    }
  },
  "cells": [
    {
      "cell_type": "markdown",
      "metadata": {
        "id": "view-in-github",
        "colab_type": "text"
      },
      "source": [
        "<a href=\"https://colab.research.google.com/github/Preeti-ing/TOEIC-READING-MODEL/blob/main/TOEIC.ipynb\" target=\"_parent\"><img src=\"https://colab.research.google.com/assets/colab-badge.svg\" alt=\"Open In Colab\"/></a>"
      ]
    },
    {
      "cell_type": "code",
      "source": [
        "import json\n",
        "with open('/content/toeic_test.json') as input_json:\n",
        "  data = json.load(input_json)\n",
        "data['1']\n",
        "\n",
        "\n"
      ],
      "metadata": {
        "colab": {
          "base_uri": "https://localhost:8080/"
        },
        "id": "pTbWq_9NFkK7",
        "outputId": "c7b86112-a831-467c-90a4-d66960a24d96"
      },
      "execution_count": 4,
      "outputs": [
        {
          "output_type": "execute_result",
          "data": {
            "text/plain": [
              "{'1': 'suffer',\n",
              " '2': 'suffers',\n",
              " '3': 'suffering',\n",
              " '4': 'suffered',\n",
              " 'anwser': 'suffered',\n",
              " 'question': 'The assets of Marble Faun Publishing Company ___ last quarter when one of their main local distributors went out of business.'}"
            ]
          },
          "metadata": {},
          "execution_count": 4
        }
      ]
    },
    {
      "cell_type": "code",
      "source": [
        "question_infors = []\n",
        "\n",
        "for key, value in data.items():\n",
        "    question_infors.append(value)\n",
        "\n",
        "question_infors[0]"
      ],
      "metadata": {
        "colab": {
          "base_uri": "https://localhost:8080/"
        },
        "id": "TYQo283-HQSv",
        "outputId": "11462442-d226-408d-f69b-1385bedb6f64"
      },
      "execution_count": 5,
      "outputs": [
        {
          "output_type": "execute_result",
          "data": {
            "text/plain": [
              "{'1': 'suffer',\n",
              " '2': 'suffers',\n",
              " '3': 'suffering',\n",
              " '4': 'suffered',\n",
              " 'anwser': 'suffered',\n",
              " 'question': 'The assets of Marble Faun Publishing Company ___ last quarter when one of their main local distributors went out of business.'}"
            ]
          },
          "metadata": {},
          "execution_count": 5
        }
      ]
    },
    {
      "cell_type": "code",
      "source": [
        "!pip install -U pytorch-pretrained-bert;"
      ],
      "metadata": {
        "colab": {
          "base_uri": "https://localhost:8080/"
        },
        "id": "WhlgJWMWHVXx",
        "outputId": "3190adfb-a5f9-40a1-b891-7feee376d42f"
      },
      "execution_count": 6,
      "outputs": [
        {
          "output_type": "stream",
          "name": "stdout",
          "text": [
            "Collecting pytorch-pretrained-bert\n",
            "  Downloading pytorch_pretrained_bert-0.6.2-py3-none-any.whl (123 kB)\n",
            "\u001b[2K     \u001b[90m━━━━━━━━━━━━━━━━━━━━━━━━━━━━━━━━━━━━━━━━\u001b[0m \u001b[32m123.8/123.8 kB\u001b[0m \u001b[31m2.6 MB/s\u001b[0m eta \u001b[36m0:00:00\u001b[0m\n",
            "\u001b[?25hRequirement already satisfied: torch>=0.4.1 in /usr/local/lib/python3.10/dist-packages (from pytorch-pretrained-bert) (2.1.0+cu121)\n",
            "Requirement already satisfied: numpy in /usr/local/lib/python3.10/dist-packages (from pytorch-pretrained-bert) (1.23.5)\n",
            "Collecting boto3 (from pytorch-pretrained-bert)\n",
            "  Downloading boto3-1.34.4-py3-none-any.whl (139 kB)\n",
            "\u001b[2K     \u001b[90m━━━━━━━━━━━━━━━━━━━━━━━━━━━━━━━━━━━━━━━━\u001b[0m \u001b[32m139.3/139.3 kB\u001b[0m \u001b[31m14.4 MB/s\u001b[0m eta \u001b[36m0:00:00\u001b[0m\n",
            "\u001b[?25hRequirement already satisfied: requests in /usr/local/lib/python3.10/dist-packages (from pytorch-pretrained-bert) (2.31.0)\n",
            "Requirement already satisfied: tqdm in /usr/local/lib/python3.10/dist-packages (from pytorch-pretrained-bert) (4.66.1)\n",
            "Requirement already satisfied: regex in /usr/local/lib/python3.10/dist-packages (from pytorch-pretrained-bert) (2023.6.3)\n",
            "Requirement already satisfied: filelock in /usr/local/lib/python3.10/dist-packages (from torch>=0.4.1->pytorch-pretrained-bert) (3.13.1)\n",
            "Requirement already satisfied: typing-extensions in /usr/local/lib/python3.10/dist-packages (from torch>=0.4.1->pytorch-pretrained-bert) (4.5.0)\n",
            "Requirement already satisfied: sympy in /usr/local/lib/python3.10/dist-packages (from torch>=0.4.1->pytorch-pretrained-bert) (1.12)\n",
            "Requirement already satisfied: networkx in /usr/local/lib/python3.10/dist-packages (from torch>=0.4.1->pytorch-pretrained-bert) (3.2.1)\n",
            "Requirement already satisfied: jinja2 in /usr/local/lib/python3.10/dist-packages (from torch>=0.4.1->pytorch-pretrained-bert) (3.1.2)\n",
            "Requirement already satisfied: fsspec in /usr/local/lib/python3.10/dist-packages (from torch>=0.4.1->pytorch-pretrained-bert) (2023.6.0)\n",
            "Requirement already satisfied: triton==2.1.0 in /usr/local/lib/python3.10/dist-packages (from torch>=0.4.1->pytorch-pretrained-bert) (2.1.0)\n",
            "Collecting botocore<1.35.0,>=1.34.4 (from boto3->pytorch-pretrained-bert)\n",
            "  Downloading botocore-1.34.4-py3-none-any.whl (11.8 MB)\n",
            "\u001b[2K     \u001b[90m━━━━━━━━━━━━━━━━━━━━━━━━━━━━━━━━━━━━━━━━\u001b[0m \u001b[32m11.8/11.8 MB\u001b[0m \u001b[31m59.5 MB/s\u001b[0m eta \u001b[36m0:00:00\u001b[0m\n",
            "\u001b[?25hCollecting jmespath<2.0.0,>=0.7.1 (from boto3->pytorch-pretrained-bert)\n",
            "  Downloading jmespath-1.0.1-py3-none-any.whl (20 kB)\n",
            "Collecting s3transfer<0.10.0,>=0.9.0 (from boto3->pytorch-pretrained-bert)\n",
            "  Downloading s3transfer-0.9.0-py3-none-any.whl (82 kB)\n",
            "\u001b[2K     \u001b[90m━━━━━━━━━━━━━━━━━━━━━━━━━━━━━━━━━━━━━━━━\u001b[0m \u001b[32m82.0/82.0 kB\u001b[0m \u001b[31m11.4 MB/s\u001b[0m eta \u001b[36m0:00:00\u001b[0m\n",
            "\u001b[?25hRequirement already satisfied: charset-normalizer<4,>=2 in /usr/local/lib/python3.10/dist-packages (from requests->pytorch-pretrained-bert) (3.3.2)\n",
            "Requirement already satisfied: idna<4,>=2.5 in /usr/local/lib/python3.10/dist-packages (from requests->pytorch-pretrained-bert) (3.6)\n",
            "Requirement already satisfied: urllib3<3,>=1.21.1 in /usr/local/lib/python3.10/dist-packages (from requests->pytorch-pretrained-bert) (2.0.7)\n",
            "Requirement already satisfied: certifi>=2017.4.17 in /usr/local/lib/python3.10/dist-packages (from requests->pytorch-pretrained-bert) (2023.11.17)\n",
            "Requirement already satisfied: python-dateutil<3.0.0,>=2.1 in /usr/local/lib/python3.10/dist-packages (from botocore<1.35.0,>=1.34.4->boto3->pytorch-pretrained-bert) (2.8.2)\n",
            "Requirement already satisfied: MarkupSafe>=2.0 in /usr/local/lib/python3.10/dist-packages (from jinja2->torch>=0.4.1->pytorch-pretrained-bert) (2.1.3)\n",
            "Requirement already satisfied: mpmath>=0.19 in /usr/local/lib/python3.10/dist-packages (from sympy->torch>=0.4.1->pytorch-pretrained-bert) (1.3.0)\n",
            "Requirement already satisfied: six>=1.5 in /usr/local/lib/python3.10/dist-packages (from python-dateutil<3.0.0,>=2.1->botocore<1.35.0,>=1.34.4->boto3->pytorch-pretrained-bert) (1.16.0)\n",
            "Installing collected packages: jmespath, botocore, s3transfer, boto3, pytorch-pretrained-bert\n",
            "Successfully installed boto3-1.34.4 botocore-1.34.4 jmespath-1.0.1 pytorch-pretrained-bert-0.6.2 s3transfer-0.9.0\n"
          ]
        }
      ]
    },
    {
      "cell_type": "code",
      "source": [
        "import torch\n",
        "from pytorch_pretrained_bert import BertTokenizer, BertModel, BertForMaskedLM"
      ],
      "metadata": {
        "id": "kOrjekWFHfY1"
      },
      "execution_count": 7,
      "outputs": []
    },
    {
      "cell_type": "code",
      "source": [
        "class TOEICBert():\n",
        "    \"\"\"\n",
        "    Model using pretrained Bert for answering toeic question, running for each example\n",
        "    Bertmodel: we can choose bert large cased/bert large uncased, etc\n",
        "\n",
        "    Model return the answer for the question based on the highest probability\n",
        "    \"\"\"\n",
        "    def __init__(self, bertmodel):\n",
        "        self.use_cuda = torch.cuda.is_available()\n",
        "        self.device = torch.device(\"cuda\" if self.use_cuda else \"cpu\")\n",
        "        self.bertmodel = bertmodel\n",
        "        # Initial tokenizer to tokenize the question later\n",
        "        self.tokenizer = BertTokenizer.from_pretrained(self.bertmodel)\n",
        "        self.model = BertForMaskedLM.from_pretrained(self.bertmodel).to(self.device)\n",
        "         # We used pretrained BertForMaskedLM to fill in the blank, do not fine tuning so we set model to eval\n",
        "        self.model.eval()\n",
        "\n",
        "    def get_score(self,question_tensors, segment_tensors, masked_index, candidate):\n",
        "        # Tokenize the answer candidate\n",
        "        candidate_tokens = self.tokenizer.tokenize(candidate)\n",
        "        # After tokenizing, we convert token to ids, (word to numerical)\n",
        "        candidate_ids = self.tokenizer.convert_tokens_to_ids(candidate_tokens)\n",
        "        predictions = self.model(question_tensors, segment_tensors)\n",
        "        predictions_candidates = predictions[0,masked_index, candidate_ids].mean()\n",
        "        return predictions_candidates.item()\n",
        "\n",
        "    def predict(self,row):\n",
        "        # Tokenizing questions, convert '___' to '_' so that we can MASK it\n",
        "        question_tokens = self.tokenizer.tokenize(row['question'].replace('___', '_'))\n",
        "        masked_index = question_tokens.index('_')\n",
        "        # Assign [MASK] to blank that need to be completed\n",
        "        question_tokens[masked_index] = '[MASK]'\n",
        "        segment_ids = [0] * len(question_tokens)\n",
        "        segment_tensors = torch.tensor([segment_ids]).to(self.device)\n",
        "        question_ids = self.tokenizer.convert_tokens_to_ids(question_tokens)\n",
        "        question_tensors = torch.tensor([question_ids]).to(self.device)\n",
        "        candidates = [row['1'], row['2'], row['3'], row['4']]\n",
        "        # Return probabilities of answer choice [prob1, prob2, prob3, prob4]\n",
        "        predict_tensor = torch.tensor([self.get_score(question_tensors, segment_tensors,\n",
        "                                                masked_index, candidate) for candidate in candidates])\n",
        "        # Softmax the predict probability to return the index for maximum values\n",
        "        predict_idx = torch.argmax(predict_tensor).item()\n",
        "        return candidates[predict_idx]\n",
        "\n",
        "\n",
        "\n"
      ],
      "metadata": {
        "id": "JzGV1q1SHkTP"
      },
      "execution_count": 8,
      "outputs": []
    },
    {
      "cell_type": "code",
      "source": [
        "Bertmodel  = 'bert-large-uncased'\n",
        "model = TOEICBert(Bertmodel)"
      ],
      "metadata": {
        "colab": {
          "base_uri": "https://localhost:8080/"
        },
        "id": "cGjs3cnUIWHs",
        "outputId": "007c7b7a-f834-4c7c-c51d-77ca08c4746b"
      },
      "execution_count": 9,
      "outputs": [
        {
          "output_type": "stream",
          "name": "stderr",
          "text": [
            "100%|██████████| 231508/231508 [00:00<00:00, 1534388.79B/s]\n",
            "100%|██████████| 1248501532/1248501532 [00:36<00:00, 34412764.40B/s]\n"
          ]
        }
      ]
    },
    {
      "cell_type": "markdown",
      "source": [
        "Play with your own Toeic questions"
      ],
      "metadata": {
        "id": "ZXGO__uhXNhq"
      }
    },
    {
      "cell_type": "code",
      "source": [
        "def Answer_toeic(question):\n",
        "    predict_anwser = model.predict(question)\n",
        "    anwser = question['anwser']\n",
        "    if predict_anwser == anwser:\n",
        "        print(f'The BertModel answer: {predict_anwser}')\n",
        "        print('This is right answer')\n",
        "    else:\n",
        "        print(f'The BertModel answer: {predict_anwser}')\n",
        "        print('This is wrong answer')\n",
        "# now we have a TOEIC question on below:\n",
        "question = {'1': 'different',\n",
        " '2': 'differently',\n",
        " '3': 'difference',\n",
        " '4': 'differences',\n",
        " 'anwser': 'different',\n",
        " 'question': 'Matos Realty has developed two ___ methods of identifying undervalued properties.'}\n",
        "\n",
        "# Check the model\n",
        "Answer_toeic(question)"
      ],
      "metadata": {
        "colab": {
          "base_uri": "https://localhost:8080/"
        },
        "id": "QdXKNVg_IyQ3",
        "outputId": "24d58f61-af09-46b2-b05e-3a85f3bcb85b"
      },
      "execution_count": 12,
      "outputs": [
        {
          "output_type": "stream",
          "name": "stdout",
          "text": [
            "The BertModel answer: different\n",
            "This is right answer\n"
          ]
        }
      ]
    }
  ]
}